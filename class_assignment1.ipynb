{
 "cells": [
  {
   "cell_type": "code",
   "execution_count": null,
   "id": "6843f761",
   "metadata": {},
   "outputs": [],
   "source": [
    "Question 1\n",
    "Make a class called User. Create two attributes called first_name and last_name, and then create several other attributes that are typically storedin a user profile.\n",
    "Make a method called describe_user() that prints a summary of the user’s information.\n",
    "Make another method called greet_user() that prints a personalized greeting to the user.\n",
    "Create several instances representing different users, and call both methods for each user."
   ]
  },
  {
   "cell_type": "code",
   "execution_count": 9,
   "id": "e4803f7f",
   "metadata": {},
   "outputs": [
    {
     "name": "stdout",
     "output_type": "stream",
     "text": [
      "\n",
      "Regan Muinde\n",
      "\n",
      "Welcome back, Regan!\n",
      "\n",
      "Abdi Hassan\n",
      "\n",
      "Welcome back, Abdi!\n",
      "\n",
      "John Paulo\n",
      "\n",
      "Welcome back, John!\n"
     ]
    }
   ],
   "source": [
    "class User:\n",
    "    \"\"\"Represent a simple user profile.\"\"\"\n",
    "\n",
    "    def __init__(self, first_name, last_name):\n",
    "        \"\"\"Initialize the user.\"\"\"\n",
    "        self.first_name = first_name.title()\n",
    "        self.last_name = last_name.title()\n",
    "       \n",
    "    def describe_user(self):\n",
    "        \"\"\"Display a summary of the user's information.\"\"\"\n",
    "        print(\"\\n\" + self.first_name + \" \" + self.last_name)\n",
    "       \n",
    "    def greet_user(self):\n",
    "        \"\"\"Display a personalized greeting to the user.\"\"\"\n",
    "        print(\"\\nWelcome back, \" + self.first_name+ \"!\")\n",
    "\n",
    "regan = User('regan', 'muinde')\n",
    "Abdi = User('Abdi', 'Hassan')\n",
    "John = User('John', 'Paulo')\n",
    "regan.describe_user()\n",
    "regan.greet_user()\n",
    "Abdi.describe_user()\n",
    "Abdi.greet_user()\n",
    "John.describe_user()\n",
    "John.greet_user()\n"
   ]
  },
  {
   "cell_type": "code",
   "execution_count": null,
   "id": "994f5d68",
   "metadata": {},
   "outputs": [],
   "source": []
  }
 ],
 "metadata": {
  "kernelspec": {
   "display_name": "Python 3 (ipykernel)",
   "language": "python",
   "name": "python3"
  },
  "language_info": {
   "codemirror_mode": {
    "name": "ipython",
    "version": 3
   },
   "file_extension": ".py",
   "mimetype": "text/x-python",
   "name": "python",
   "nbconvert_exporter": "python",
   "pygments_lexer": "ipython3",
   "version": "3.9.12"
  }
 },
 "nbformat": 4,
 "nbformat_minor": 5
}
